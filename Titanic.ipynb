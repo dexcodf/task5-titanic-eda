{
 "cells": [
  {
   "cell_type": "code",
   "execution_count": null,
   "id": "1193a051",
   "metadata": {},
   "outputs": [],
   "source": [
    "mkdir Titanic_EDA\n",
    "cd Titanic_EDA\n",
    "python -m venv venv\n",
    "# Activate it\n",
    "# On Windows\n",
    "venv\\Scripts\\activate\n",
    "# On Mac/Linux\n",
    "source venv/bin/activate\n",
    "pip install pandas matplotlib seaborn notebook\n",
    "\n",
    "import pandas as pd\n",
    "import matplotlib.pyplot as plt\n",
    "import seaborn as sns\n",
    "\n",
    "sns.set(style=\"darkgrid\")\n",
    "df = pd.read_csv(\"titanic.csv\")\n",
    "df.head()\n",
    "df.info()\n",
    "df.describe()\n",
    "df.isnull().sum()\n",
    "df['Survived'].value_counts()\n",
    "df['Age'].hist(bins=30)\n",
    "plt.title(\"Age Distribution\")\n",
    "plt.xlabel(\"Age\")\n",
    "plt.ylabel(\"Count\")\n",
    "plt.show()\n",
    "sns.boxplot(x='Survived', y='Age', data=df)\n",
    "plt.title(\"Survival vs Age\")\n",
    "plt.show()\n",
    "sns.countplot(x='Sex', hue='Survived', data=df)\n",
    "plt.title(\"Survival Count by Gender\")\n",
    "plt.show()\n",
    "sns.countplot(x='Pclass', hue='Survived', data=df)\n",
    "plt.title(\"Survival Count by Passenger Class\")\n",
    "plt.show()\n",
    "sns.pairplot(df[['Survived', 'Age', 'Fare', 'Pclass']], hue='Survived')\n",
    "plt.figure(figsize=(10,6))\n",
    "sns.heatmap(df.corr(), annot=True, cmap=\"coolwarm\", fmt=\".2f\")\n",
    "plt.title(\"Correlation Matrix\")\n",
    "plt.show()\n"
   ]
  },
  {
   "cell_type": "markdown",
   "id": "f1c15300",
   "metadata": {},
   "source": [
    "### Key Insights from Titanic Data Exploration\n",
    "\n",
    "- **Age Distribution:** The majority of passengers were young adults, with a notable number of children and elderly.\n",
    "- **Survival by Age:** Younger passengers, especially children, had a higher survival rate.\n",
    "- **Gender and Survival:** Females had a significantly higher chance of survival compared to males.\n",
    "- **Class and Survival:** Passengers in 1st and 2nd class were more likely to survive than those in 3rd class.\n",
    "- **Correlation Analysis:** Survival is positively correlated with being female and being in a higher class, and negatively correlated with age and fare for some groups.\n",
    "\n",
    "These findings highlight the impact of age, gender, and class on survival rates during the Titanic disaster."
   ]
  }
 ],
 "metadata": {
  "kernelspec": {
   "display_name": "venv",
   "language": "python",
   "name": "python3"
  },
  "language_info": {
   "name": "python",
   "version": "3.13.3"
  }
 },
 "nbformat": 4,
 "nbformat_minor": 5
}
